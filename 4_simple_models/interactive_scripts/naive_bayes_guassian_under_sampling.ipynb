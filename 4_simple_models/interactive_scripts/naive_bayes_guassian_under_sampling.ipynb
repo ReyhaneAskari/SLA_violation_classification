{
 "cells": [
  {
   "cell_type": "code",
   "execution_count": 240,
   "metadata": {
    "collapsed": false
   },
   "outputs": [],
   "source": [
    "# -*- coding: utf-8 -*-\n",
    "\n",
    "# In this script we use a simple classifer called naive bayes and try to predict the violations. But before that we use\n",
    "# some methods to tackle the problem of our skewed dataset. :) \n",
    "\n",
    "# 11 May 2016\n",
    "# @author: reyhane_askari\n",
    "# Universite de Montreal, DIRO\n",
    "\n",
    "import csv\n",
    "import numpy as np\n",
    "from sklearn.metrics import roc_curve, auc\n",
    "from sklearn.cross_validation import train_test_split\n",
    "import matplotlib.pyplot as plt\n",
    "from sklearn import metrics\n",
    "import pandas as pd\n",
    "from os import chdir, listdir\n",
    "from pandas import read_csv\n",
    "from os import path\n",
    "from random import randint, sample, seed\n",
    "from collections import OrderedDict\n",
    "from pandas import DataFrame, Series\n",
    "import numpy as np \n",
    "import csv\n",
    "import codecs\n",
    "import matplotlib as mpl\n",
    "import seaborn as sns\n",
    "sns.set()\n",
    "import itertools\n",
    "from sklearn.decomposition import PCA\n",
    "from unbalanced_dataset import UnderSampler, NearMiss, CondensedNearestNeighbour, OneSidedSelection,\\\n",
    "NeighbourhoodCleaningRule, TomekLinks, ClusterCentroids, OverSampler, SMOTE,\\\n",
    "SMOTETomek, SMOTEENN, EasyEnsemble, BalanceCascade\n",
    "\n",
    "almost_black = '#262626'\n",
    "\n",
    "%matplotlib inline"
   ]
  },
  {
   "cell_type": "code",
   "execution_count": 241,
   "metadata": {
    "collapsed": false
   },
   "outputs": [],
   "source": [
    "colnames = ['old_index','job_id', 'task_idx','sched_cls', 'priority', 'cpu_requested',\n",
    "            'mem_requested', 'disk', 'violation'] \n",
    "\n",
    "tain_path = r'/Users/reyhane.askari/Dropbox/Project_step_by_step/3_create_database/csvs/frull_db_2.csv'\n",
    "\n",
    "X = pd.read_csv(tain_path, header = None, index_col = False ,names = colnames, skiprows = [0],  usecols = [3,4,5,6,7])\n",
    "y = pd.read_csv(tain_path, header = None, index_col = False ,names = colnames, skiprows = [0],  usecols = [8])\n",
    "y = y['violation'].values\n",
    "# X_train, X_test, y_train, y_test = train_test_split(X, y, test_size=.333, random_state=0)\n",
    "x = X.values"
   ]
  },
  {
   "cell_type": "code",
   "execution_count": 228,
   "metadata": {
    "collapsed": true
   },
   "outputs": [],
   "source": [
    "# Instanciate a PCA object for the sake of easy visualisation\n",
    "pca = PCA(n_components = 2)\n",
    "\n",
    "# Fit and transform x to visualise inside a 2D feature space\n",
    "x_vis = pca.fit_transform(x)\n",
    "# Plot the original data\n",
    "# Plot the two classes\n",
    "palette = sns.color_palette()"
   ]
  },
  {
   "cell_type": "code",
   "execution_count": 229,
   "metadata": {
    "collapsed": false
   },
   "outputs": [
    {
     "data": {
      "image/png": "[encoded data removed]",
      "text/plain": [
       "<matplotlib.figure.Figure at 0x1208e0d50>"
      ]
     },
     "metadata": {},
     "output_type": "display_data"
    }
   ],
   "source": [
    "plt.scatter(x_vis[y==0, 0], x_vis[y==0, 1], label=\"Class #0\", alpha=0.009, \n",
    "            edgecolor=almost_black, facecolor=palette[0], linewidth=0.15)\n",
    "plt.scatter(x_vis[y==1, 0], x_vis[y==1, 1], label=\"Class #1\", alpha=0.009, \n",
    "            edgecolor=almost_black, facecolor=palette[2], linewidth=0.15)\n",
    "\n",
    "plt.legend()\n",
    "plt.show()"
   ]
  },
  {
   "cell_type": "code",
   "execution_count": 230,
   "metadata": {
    "collapsed": true
   },
   "outputs": [],
   "source": [
    "# Generate the new dataset using under-sampling method\n",
    "verbose = False"
   ]
  },
  {
   "cell_type": "code",
   "execution_count": 12,
   "metadata": {
    "collapsed": false
   },
   "outputs": [],
   "source": [
    "# 'Random under-sampling'\n",
    "US = UnderSampler(verbose=verbose)\n",
    "x, y = US.fit_transform(x, y)"
   ]
  },
  {
   "cell_type": "code",
   "execution_count": null,
   "metadata": {
    "collapsed": true
   },
   "outputs": [],
   "source": [
    "# 'Clustering centroids'\n",
    "CC = ClusterCentroids(verbose=verbose)\n",
    "x, y = CC.fit_transform(x, y)"
   ]
  },
  {
   "cell_type": "code",
   "execution_count": 242,
   "metadata": {
    "collapsed": true
   },
   "outputs": [],
   "source": [
    "# 'NearMiss-1'\n",
    "NM1 = NearMiss(version=1, verbose=verbose)\n",
    "x, y = NM1.fit_transform(x, y)"
   ]
  },
  {
   "cell_type": "code",
   "execution_count": 16,
   "metadata": {
    "collapsed": true
   },
   "outputs": [],
   "source": [
    "# 'NearMiss-2'\n",
    "NM2 = NearMiss(version=2, verbose=verbose)\n",
    "x, y = NM2.fit_transform(x, y)"
   ]
  },
  {
   "cell_type": "code",
   "execution_count": 44,
   "metadata": {
    "collapsed": true
   },
   "outputs": [],
   "source": [
    "# 'NearMiss-3'\n",
    "NM3 = NearMiss(version=3, verbose=verbose)\n",
    "x, y = NM3.fit_transform(x, y)"
   ]
  },
  {
   "cell_type": "code",
   "execution_count": 92,
   "metadata": {
    "collapsed": true
   },
   "outputs": [],
   "source": [
    "# 'One-Sided Selection'\n",
    "OSS = OneSidedSelection(size_ngh=51, n_seeds_S=51, verbose=verbose)\n",
    "x, y = OSS.fit_transform(x, y)"
   ]
  },
  {
   "cell_type": "code",
   "execution_count": 106,
   "metadata": {
    "collapsed": true
   },
   "outputs": [],
   "source": [
    "# 'Neighboorhood Cleaning Rule'\n",
    "NCR = NeighbourhoodCleaningRule(size_ngh=51, verbose=verbose)\n",
    "x, y = NCR.fit_transform(x, y) "
   ]
  },
  {
   "cell_type": "code",
   "execution_count": 216,
   "metadata": {
    "collapsed": true
   },
   "outputs": [],
   "source": [
    "ratio = float(np.count_nonzero(y==1)) / float(np.count_nonzero(y==0))"
   ]
  },
  {
   "cell_type": "code",
   "execution_count": 122,
   "metadata": {
    "collapsed": true
   },
   "outputs": [],
   "source": [
    "# 'Random over-sampling'\n",
    "OS = OverSampler(ratio=ratio, verbose=verbose)\n",
    "x, y = OS.fit_transform(x, y)"
   ]
  },
  {
   "cell_type": "code",
   "execution_count": 137,
   "metadata": {
    "collapsed": true
   },
   "outputs": [],
   "source": [
    "# 'SMOTE'\n",
    "smote = SMOTE(ratio=ratio, verbose=verbose, kind='regular')\n",
    "x, y = smote.fit_transform(x, y)"
   ]
  },
  {
   "cell_type": "code",
   "execution_count": 166,
   "metadata": {
    "collapsed": true
   },
   "outputs": [],
   "source": [
    "# 'SMOTE bordeline 1'\n",
    "bsmote1 = SMOTE(ratio=ratio, verbose=verbose, kind='borderline1')\n",
    "x, y = bsmote1.fit_transform(x, y)"
   ]
  },
  {
   "cell_type": "code",
   "execution_count": 181,
   "metadata": {
    "collapsed": true
   },
   "outputs": [],
   "source": [
    "# 'SMOTE bordeline 2'\n",
    "bsmote2 = SMOTE(ratio=ratio, verbose=verbose, kind='borderline2')\n",
    "x, y = bsmote2.fit_transform(x, y)"
   ]
  },
  {
   "cell_type": "code",
   "execution_count": 196,
   "metadata": {
    "collapsed": false
   },
   "outputs": [
    {
     "name": "stderr",
     "output_type": "stream",
     "text": [
      "/Users/reyhane.askari/anaconda/lib/python2.7/site-packages/sklearn/utils/class_weight.py:62: DeprecationWarning: The class_weight='auto' heuristic is deprecated in 0.17 in favor of a new heuristic class_weight='balanced'. 'auto' will be removed in 0.19\n",
      "  \" 0.19\", DeprecationWarning)\n"
     ]
    }
   ],
   "source": [
    "# 'SMOTE SVM'\n",
    "svm_args={'class_weight' : 'auto'}\n",
    "svmsmote = SMOTE(ratio=ratio, verbose=verbose, kind='svm', **svm_args)\n",
    "x, y = svmsmote.fit_transform(x, y)"
   ]
  },
  {
   "cell_type": "code",
   "execution_count": 203,
   "metadata": {
    "collapsed": true
   },
   "outputs": [],
   "source": [
    "# 'SMOTE Tomek links'\n",
    "STK = SMOTETomek(ratio=ratio, verbose=verbose)\n",
    "x, y = STK.fit_transform(x, y)"
   ]
  },
  {
   "cell_type": "code",
   "execution_count": 231,
   "metadata": {
    "collapsed": true
   },
   "outputs": [],
   "source": [
    "# 'SMOTE ENN'\n",
    "SENN = SMOTEENN(ratio=ratio, verbose=verbose)\n",
    "x, y = SENN.fit_transform(x, y)"
   ]
  },
  {
   "cell_type": "code",
   "execution_count": null,
   "metadata": {
    "collapsed": true
   },
   "outputs": [],
   "source": [
    "# 'EasyEnsemble'\n",
    "EE = EasyEnsemble(verbose=verbose)\n",
    "x, y = EE.fit_transform(x, y)"
   ]
  },
  {
   "cell_type": "code",
   "execution_count": null,
   "metadata": {
    "collapsed": true
   },
   "outputs": [],
   "source": [
    "# 'BalanceCascade'\n",
    "BS = BalanceCascade(verbose=verbose)\n",
    "x, y = BS.fit_transform(x, y)"
   ]
  },
  {
   "cell_type": "code",
   "execution_count": 232,
   "metadata": {
    "collapsed": false
   },
   "outputs": [],
   "source": [
    "X_train, X_test, y_train, y_test = train_test_split(x, y, test_size=.333, random_state=0)"
   ]
  },
  {
   "cell_type": "code",
   "execution_count": 233,
   "metadata": {
    "collapsed": false
   },
   "outputs": [
    {
     "name": "stdout",
     "output_type": "stream",
     "text": [
      "0.745721744175\n"
     ]
    },
    {
     "data": {
      "image/png": "[encoded data removed]",
      "text/plain": [
       "<matplotlib.figure.Figure at 0x117a70710>"
      ]
     },
     "metadata": {},
     "output_type": "display_data"
    },
    {
     "name": "stdout",
     "output_type": "stream",
     "text": [
      "Number of mislabeled points out of a total 62058 points : 15780\n"
     ]
    }
   ],
   "source": [
    "from sklearn.naive_bayes import GaussianNB, BernoulliNB\n",
    "gnb = GaussianNB() #Guassian Naive Bayes\n",
    "# gnb = BernoulliNB() #Bernoulli Naive Bayes\n",
    "y_pred = gnb.fit(X_train, y_train).predict(X_test)\n",
    "y_score = gnb.fit(X_train, y_train).predict_proba(X_test)[:,1]\n",
    "mean_accuracy = gnb.fit(X_train, y_train).score(X_test,y_test,sample_weight=None)\n",
    "# print(y_score)\n",
    "print(mean_accuracy)\n",
    "fpr, tpr, thresholds = metrics.roc_curve(y_test, y_score)\n",
    "roc_auc = auc(fpr, tpr)\n",
    "\n",
    "plt.plot(fpr, tpr, label='ROC curve (area = %0.2f)' % roc_auc)\n",
    "plt.plot([0, 1], [0, 1], 'k--')\n",
    "plt.xlim([0.0, 1.0])\n",
    "plt.ylim([0.0, 1.05])\n",
    "plt.xlabel('False Positive Rate')\n",
    "plt.ylabel('True Positive Rate')\n",
    "plt.title('Receiver operating characteristic example')\n",
    "\n",
    "plt.legend(loc=\"lower right\")\n",
    "\n",
    "plt.savefig('/Users/reyhane.askari/Dropbox/Project_step_by_step/3_create_database/naive_bays_guassian.png')\n",
    "\n",
    "plt.show()\n",
    "\n",
    "\n",
    "print(\"Number of mislabeled points out of a total %d points : %d\"\n",
    "    % (X_test.shape[0],(y_test != y_pred).sum()))\n",
    "from sklearn import metrics\n",
    "# metrics.precision_score(y_test, y_pred)"
   ]
  },
  {
   "cell_type": "code",
   "execution_count": 234,
   "metadata": {
    "collapsed": false,
    "scrolled": true
   },
   "outputs": [
    {
     "data": {
      "text/plain": [
       "0.1701430105703465"
      ]
     },
     "execution_count": 234,
     "metadata": {},
     "output_type": "execute_result"
    }
   ],
   "source": [
    "from sklearn import metrics\n",
    "metrics.precision_score(y_test, y_pred)"
   ]
  },
  {
   "cell_type": "code",
   "execution_count": 235,
   "metadata": {
    "collapsed": false
   },
   "outputs": [
    {
     "data": {
      "text/plain": [
       "0.73253833049403749"
      ]
     },
     "execution_count": 235,
     "metadata": {},
     "output_type": "execute_result"
    }
   ],
   "source": [
    "metrics.recall_score(y_test, y_pred)"
   ]
  },
  {
   "cell_type": "code",
   "execution_count": 236,
   "metadata": {
    "collapsed": false
   },
   "outputs": [
    {
     "data": {
      "text/plain": [
       "0.20100703858533783"
      ]
     },
     "execution_count": 236,
     "metadata": {},
     "output_type": "execute_result"
    }
   ],
   "source": [
    " metrics.fbeta_score(y_test, y_pred, beta=0.5)  "
   ]
  },
  {
   "cell_type": "code",
   "execution_count": 237,
   "metadata": {
    "collapsed": false
   },
   "outputs": [
    {
     "data": {
      "text/plain": [
       "0.27614678899082568"
      ]
     },
     "execution_count": 237,
     "metadata": {},
     "output_type": "execute_result"
    }
   ],
   "source": [
    " metrics.fbeta_score(y_test, y_pred, beta=1)  "
   ]
  },
  {
   "cell_type": "code",
   "execution_count": 238,
   "metadata": {
    "collapsed": false
   },
   "outputs": [
    {
     "data": {
      "text/plain": [
       "0.4409997948838163"
      ]
     },
     "execution_count": 238,
     "metadata": {},
     "output_type": "execute_result"
    }
   ],
   "source": [
    "metrics.fbeta_score(y_test, y_pred, beta=2)"
   ]
  },
  {
   "cell_type": "code",
   "execution_count": 239,
   "metadata": {
    "collapsed": false
   },
   "outputs": [
    {
     "data": {
      "text/plain": [
       "(array([ 0.97522934,  0.17014301]),\n",
       " array([ 0.74665654,  0.73253833]),\n",
       " array([ 0.91896507,  0.20100704]),\n",
       " array([57949,  4109]))"
      ]
     },
     "execution_count": 239,
     "metadata": {},
     "output_type": "execute_result"
    }
   ],
   "source": [
    "metrics.precision_recall_fscore_support(y_test, y_pred, beta=0.5) "
   ]
  },
  {
   "cell_type": "code",
   "execution_count": null,
   "metadata": {
    "collapsed": true
   },
   "outputs": [],
   "source": []
  },
  {
   "cell_type": "code",
   "execution_count": null,
   "metadata": {
    "collapsed": true
   },
   "outputs": [],
   "source": []
  },
  {
   "cell_type": "code",
   "execution_count": null,
   "metadata": {
    "collapsed": true
   },
   "outputs": [],
   "source": []
  }
 ],
 "metadata": {
  "kernelspec": {
   "display_name": "Python 2",
   "language": "python",
   "name": "python2"
  },
  "language_info": {
   "codemirror_mode": {
    "name": "ipython",
    "version": 2
   },
   "file_extension": ".py",
   "mimetype": "text/x-python",
   "name": "python",
   "nbconvert_exporter": "python",
   "pygments_lexer": "ipython2",
   "version": "2.7.11"
  }
 },
 "nbformat": 4,
 "nbformat_minor": 0
}
