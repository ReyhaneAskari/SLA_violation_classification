{
 "cells": [
  {
   "cell_type": "code",
   "execution_count": 14,
   "metadata": {
    "collapsed": false
   },
   "outputs": [],
   "source": [
    "# -*- coding: utf-8 -*-\n",
    "\n",
    "# In this script we use a simple classifer called naive bayes and try to predict the violations. But before that we use\n",
    "# some methods to tackle the problem of our skewed dataset. :) \n",
    "\n",
    "# 11 May 2016\n",
    "# @author: reyhane_askari\n",
    "# Universite de Montreal, DIRO\n",
    "\n",
    "import csv\n",
    "import numpy as np\n",
    "from sklearn.metrics import roc_curve, auc\n",
    "from sklearn.cross_validation import train_test_split\n",
    "import matplotlib.pyplot as plt\n",
    "from sklearn import metrics\n",
    "import pandas as pd\n",
    "from os import chdir, listdir\n",
    "from pandas import read_csv\n",
    "from os import path\n",
    "from random import randint, sample, seed\n",
    "from collections import OrderedDict\n",
    "from pandas import DataFrame, Series\n",
    "import numpy as np \n",
    "import csv\n",
    "import codecs\n",
    "import matplotlib as mpl\n",
    "import seaborn as sns\n",
    "sns.set()\n",
    "import itertools\n",
    "from sklearn.decomposition import PCA\n",
    "from unbalanced_dataset import UnderSampler, NearMiss, CondensedNearestNeighbour, OneSidedSelection,\\\n",
    "NeighbourhoodCleaningRule, TomekLinks, ClusterCentroids, OverSampler, SMOTE,\\\n",
    "SMOTETomek, SMOTEENN, EasyEnsemble, BalanceCascade\n",
    "\n",
    "almost_black = '#262626'\n",
    "\n",
    "%matplotlib inline"
   ]
  },
  {
   "cell_type": "code",
   "execution_count": 15,
   "metadata": {
    "collapsed": false
   },
   "outputs": [],
   "source": [
    "colnames = ['old_index','job_id', 'task_idx','sched_cls', 'priority', 'cpu_requested',\n",
    "            'mem_requested', 'disk', 'violation'] \n",
    "\n",
    "tain_path = r'/Users/reyhane.askari/Dropbox/Project_step_by_step/3_create_database/csvs/frull_db_2.csv'\n",
    "\n",
    "X = pd.read_csv(tain_path, header = None, index_col = False ,names = colnames, skiprows = [0],  usecols = [3,4,5,6,7])\n",
    "y = pd.read_csv(tain_path, header = None, index_col = False ,names = colnames, skiprows = [0],  usecols = [8])\n",
    "y = y['violation'].values\n",
    "# X_train, X_test, y_train, y_test = train_test_split(X, y, test_size=.333, random_state=0)\n",
    "x = X.values"
   ]
  },
  {
   "cell_type": "code",
   "execution_count": 16,
   "metadata": {
    "collapsed": true
   },
   "outputs": [],
   "source": [
    "# Instanciate a PCA object for the sake of easy visualisation\n",
    "pca = PCA(n_components = 2)\n",
    "\n",
    "# Fit and transform x to visualise inside a 2D feature space\n",
    "x_vis = pca.fit_transform(x)\n",
    "# Plot the original data\n",
    "# Plot the two classes\n",
    "palette = sns.color_palette()"
   ]
  },
  {
   "cell_type": "code",
   "execution_count": 17,
   "metadata": {
    "collapsed": false
   },
   "outputs": [
    {
     "data": {
      "image/png": "[encoded data removed]",
      "text/plain": [
       "<matplotlib.figure.Figure at 0x10240df10>"
      ]
     },
     "metadata": {},
     "output_type": "display_data"
    }
   ],
   "source": [
    "plt.scatter(x_vis[y==0, 0], x_vis[y==0, 1], label=\"Class #0\", alpha=0.009, \n",
    "            edgecolor=almost_black, facecolor=palette[0], linewidth=0.15)\n",
    "plt.scatter(x_vis[y==1, 0], x_vis[y==1, 1], label=\"Class #1\", alpha=0.009, \n",
    "            edgecolor=almost_black, facecolor=palette[2], linewidth=0.15)\n",
    "\n",
    "plt.legend()\n",
    "plt.show()"
   ]
  },
  {
   "cell_type": "code",
   "execution_count": 18,
   "metadata": {
    "collapsed": false
   },
   "outputs": [],
   "source": [
    "# Generate the new dataset using under-sampling method\n",
    "verbose = False\n",
    "# 'Random under-sampling'\n",
    "US = UnderSampler(verbose=verbose)\n",
    "usx, usy = US.fit_transform(x, y)\n",
    "X_train, X_test, y_train, y_test = train_test_split(usx, usy, test_size=.333, random_state=0)"
   ]
  },
  {
   "cell_type": "code",
   "execution_count": 28,
   "metadata": {
    "collapsed": false
   },
   "outputs": [
    {
     "name": "stdout",
     "output_type": "stream",
     "text": [
      "0.550569075599\n"
     ]
    },
    {
     "data": {
      "image/png": "[encoded data removed]",
      "text/plain": [
       "<matplotlib.figure.Figure at 0x117a98fd0>"
      ]
     },
     "metadata": {},
     "output_type": "display_data"
    },
    {
     "name": "stdout",
     "output_type": "stream",
     "text": [
      "Number of mislabeled points out of a total 10807 points : 4857\n"
     ]
    }
   ],
   "source": [
    "from sklearn.naive_bayes import GaussianNB, BernoulliNB\n",
    "gnb = GaussianNB() #Guassian Naive Bayes\n",
    "# gnb = BernoulliNB() #Bernoulli Naive Bayes\n",
    "y_pred = gnb.fit(X_train, y_train).predict(X_test)\n",
    "y_score = gnb.fit(X_train, y_train).predict_proba(X_test)[:,1]\n",
    "mean_accuracy = gnb.fit(X_train, y_train).score(X_test,y_test,sample_weight=None)\n",
    "# print(y_score)\n",
    "print(mean_accuracy)\n",
    "fpr, tpr, thresholds = metrics.roc_curve(y_test, y_score)\n",
    "roc_auc = auc(fpr, tpr)\n",
    "\n",
    "plt.plot(fpr, tpr, label='ROC curve (area = %0.2f)' % roc_auc)\n",
    "plt.plot([0, 1], [0, 1], 'k--')\n",
    "plt.xlim([0.0, 1.0])\n",
    "plt.ylim([0.0, 1.05])\n",
    "plt.xlabel('False Positive Rate')\n",
    "plt.ylabel('True Positive Rate')\n",
    "plt.title('Receiver operating characteristic example')\n",
    "\n",
    "plt.legend(loc=\"lower right\")\n",
    "\n",
    "plt.savefig('/Users/reyhane.askari/Dropbox/Project_step_by_step/3_create_database/naive_bays_guassian.png')\n",
    "\n",
    "plt.show()\n",
    "\n",
    "\n",
    "print(\"Number of mislabeled points out of a total %d points : %d\"\n",
    "    % (X_test.shape[0],(y_test != y_pred).sum()))\n",
    "from sklearn import metrics\n",
    "# metrics.precision_score(y_test, y_pred)"
   ]
  },
  {
   "cell_type": "code",
   "execution_count": 20,
   "metadata": {
    "collapsed": false
   },
   "outputs": [
    {
     "name": "stdout",
     "output_type": "stream",
     "text": [
      "0.637734801518\n"
     ]
    },
    {
     "data": {
      "image/png": "[encoded data removed]",
      "text/plain": [
       "<matplotlib.figure.Figure at 0x117ad3a90>"
      ]
     },
     "metadata": {},
     "output_type": "display_data"
    },
    {
     "name": "stdout",
     "output_type": "stream",
     "text": [
      "Number of mislabeled points out of a total 10807 points : 3915\n"
     ]
    }
   ],
   "source": [
    "gnb = BernoulliNB() #Bernoulli Naive Bayes\n",
    "y_pred = gnb.fit(X_train, y_train).predict(X_test)\n",
    "y_score = gnb.fit(X_train, y_train).predict_proba(X_test)[:,1]\n",
    "mean_accuracy = gnb.fit(X_train, y_train).score(X_test,y_test,sample_weight=None)\n",
    "# print(y_score)\n",
    "print(mean_accuracy)\n",
    "fpr, tpr, thresholds = metrics.roc_curve(y_test, y_score)\n",
    "roc_auc = auc(fpr, tpr)\n",
    "\n",
    "plt.plot(fpr, tpr, label='ROC curve (area = %0.2f)' % roc_auc)\n",
    "plt.plot([0, 1], [0, 1], 'k--')\n",
    "plt.xlim([0.0, 1.0])\n",
    "plt.ylim([0.0, 1.05])\n",
    "plt.xlabel('False Positive Rate')\n",
    "plt.ylabel('True Positive Rate')\n",
    "plt.title('Receiver operating characteristic example')\n",
    "plt.legend(loc=\"lower right\")\n",
    "\n",
    "plt.savefig('/Users/reyhane.askari/Dropbox/Project_step_by_step/3_create_database/naive_bayes_bernoulli.png')\n",
    "plt.show()\n",
    "print(\"Number of mislabeled points out of a total %d points : %d\"\n",
    "    % (X_test.shape[0],(y_test != y_pred).sum()))"
   ]
  },
  {
   "cell_type": "code",
   "execution_count": 29,
   "metadata": {
    "collapsed": false
   },
   "outputs": [
    {
     "data": {
      "text/plain": [
       "0.52877780325613388"
      ]
     },
     "execution_count": 29,
     "metadata": {},
     "output_type": "execute_result"
    }
   ],
   "source": [
    "from sklearn import metrics\n",
    "metrics.precision_score(y_test, y_pred)"
   ]
  },
  {
   "cell_type": "code",
   "execution_count": 30,
   "metadata": {
    "collapsed": false
   },
   "outputs": [
    {
     "data": {
      "text/plain": [
       "0.86060832244821794"
      ]
     },
     "execution_count": 30,
     "metadata": {},
     "output_type": "execute_result"
    }
   ],
   "source": [
    "metrics.recall_score(y_test, y_pred)"
   ]
  },
  {
   "cell_type": "code",
   "execution_count": 31,
   "metadata": {
    "collapsed": false
   },
   "outputs": [
    {
     "data": {
      "text/plain": [
       "0.65506711171081589"
      ]
     },
     "execution_count": 31,
     "metadata": {},
     "output_type": "execute_result"
    }
   ],
   "source": [
    "metrics.f1_score(y_test, y_pred)"
   ]
  },
  {
   "cell_type": "code",
   "execution_count": 32,
   "metadata": {
    "collapsed": false
   },
   "outputs": [
    {
     "data": {
      "text/plain": [
       "0.5729619598976321"
      ]
     },
     "execution_count": 32,
     "metadata": {},
     "output_type": "execute_result"
    }
   ],
   "source": [
    " metrics.fbeta_score(y_test, y_pred, beta=0.5)  "
   ]
  },
  {
   "cell_type": "code",
   "execution_count": 33,
   "metadata": {
    "collapsed": false
   },
   "outputs": [
    {
     "data": {
      "text/plain": [
       "0.65506711171081589"
      ]
     },
     "execution_count": 33,
     "metadata": {},
     "output_type": "execute_result"
    }
   ],
   "source": [
    " metrics.fbeta_score(y_test, y_pred, beta=1)  "
   ]
  },
  {
   "cell_type": "code",
   "execution_count": 34,
   "metadata": {
    "collapsed": false
   },
   "outputs": [
    {
     "data": {
      "text/plain": [
       "0.76463956495788854"
      ]
     },
     "execution_count": 34,
     "metadata": {},
     "output_type": "execute_result"
    }
   ],
   "source": [
    "metrics.fbeta_score(y_test, y_pred, beta=2)"
   ]
  },
  {
   "cell_type": "code",
   "execution_count": 35,
   "metadata": {
    "collapsed": false
   },
   "outputs": [
    {
     "data": {
      "text/plain": [
       "(array([ 0.64172662,  0.5287778 ]),\n",
       " array([ 0.24559471,  0.86060832]),\n",
       " array([ 0.48520453,  0.57296196]),\n",
       " array([5448, 5359]))"
      ]
     },
     "execution_count": 35,
     "metadata": {},
     "output_type": "execute_result"
    }
   ],
   "source": [
    "metrics.precision_recall_fscore_support(y_test, y_pred, beta=0.5) "
   ]
  },
  {
   "cell_type": "code",
   "execution_count": null,
   "metadata": {
    "collapsed": true
   },
   "outputs": [],
   "source": []
  },
  {
   "cell_type": "code",
   "execution_count": null,
   "metadata": {
    "collapsed": true
   },
   "outputs": [],
   "source": []
  }
 ],
 "metadata": {
  "kernelspec": {
   "display_name": "Python 2",
   "language": "python",
   "name": "python2"
  },
  "language_info": {
   "codemirror_mode": {
    "name": "ipython",
    "version": 2
   },
   "file_extension": ".py",
   "mimetype": "text/x-python",
   "name": "python",
   "nbconvert_exporter": "python",
   "pygments_lexer": "ipython2",
   "version": "2.7.11"
  }
 },
 "nbformat": 4,
 "nbformat_minor": 0
}
